{
 "cells": [
  {
   "cell_type": "markdown",
   "id": "d3198245",
   "metadata": {},
   "source": [
    "# Lista 4"
   ]
  },
  {
   "cell_type": "code",
   "execution_count": 1,
   "id": "fda75089",
   "metadata": {},
   "outputs": [],
   "source": [
    "import numpy as np\n",
    "import numpy.linalg as la\n",
    "import matplotlib.pyplot as plt\n",
    "from types import FunctionType"
   ]
  },
  {
   "cell_type": "markdown",
   "id": "7195f874",
   "metadata": {},
   "source": [
    "## Zadanie 1"
   ]
  },
  {
   "cell_type": "markdown",
   "id": "1bcbeff7",
   "metadata": {},
   "source": [
    "**Metoda bisekcji**"
   ]
  },
  {
   "cell_type": "code",
   "execution_count": 3,
   "id": "d81691ef",
   "metadata": {},
   "outputs": [],
   "source": [
    "# Metoda bisekcji \n",
    "def bisection(f: FunctionType, a: float, b: float, eps: float, max_iter: int):\n",
    "    for count in range(max_iter):\n",
    "        diff = (b - a) / 2\n",
    "        c = a + diff # Lepsze niż (a + b) / 2 w arytmetyce zmiennoprzecinkowej\n",
    "        if np.abs(f(c)) < eps:\n",
    "            return c, count\n",
    "        if np.sign(f(c)) == np.sign(f(a)):\n",
    "            a = c\n",
    "        else:\n",
    "            b = c\n",
    "    return c, max_iter"
   ]
  },
  {
   "cell_type": "markdown",
   "id": "e0eb5dda",
   "metadata": {},
   "source": [
    "**Metoda Brenta**"
   ]
  },
  {
   "cell_type": "code",
   "execution_count": 4,
   "id": "62d82418",
   "metadata": {},
   "outputs": [],
   "source": [
    "# Metoda Brenth'a\n",
    "def brent(f: FunctionType, a: float, b: float, eps: float, max_iter: int):\n",
    "    fa = f(a)\n",
    "    fb = f(b)\n",
    "    if fa * fb >= 0:\n",
    "        raise ValueError(\"f(a) i f(b) muszą mieć różne znaki\")\n",
    "    if abs(fa) < abs(fb):\n",
    "        a, b = b, a\n",
    "        fa, fb = fb, fa\n",
    "    c = a\n",
    "    fc = fa\n",
    "    mflag = True\n",
    "    s = 0\n",
    "    for count in range(max_iter):\n",
    "        if fa != fc and fb != fc:\n",
    "            s = a * fb * fc / ((fa - fb) * (fa - fc)) + b * fa * fc / ((fb - fa) * (fb - fc)) + c * fa * fb / ((fc - fa) * (fc - fb))\n",
    "        else:\n",
    "            s = b - fb * (b - a) / (fb - fa)\n",
    "        if (s < (3 * a + b) / 4 or s > b) or (mflag and abs(s - b) >= abs(b - c) / 2) or (not mflag and abs(s - b) >= abs(c - d) / 2) or (mflag and abs(b - c) < eps) or (not mflag and abs(c - d) < eps):\n",
    "            s = (a + b) / 2\n",
    "            mflag = True\n",
    "        else:\n",
    "            mflag = False\n",
    "        fs = f(s)\n",
    "        d = c\n",
    "        c = b\n",
    "        fc = fb\n",
    "        if fa * fs < 0:\n",
    "            b = s\n",
    "            fb = fs\n",
    "        else:\n",
    "            a = s\n",
    "            fa = fs\n",
    "        if abs(fa) < abs(fb):\n",
    "            a, b = b, a\n",
    "            fa, fb = fb, fa\n",
    "        if abs(fb) < eps:\n",
    "            \n",
    "            return b, count\n",
    "    return b, max_iter\n",
    "\n",
    "\n",
    "def brent_v2(f: FunctionType, a: float, b:float, eps: float, max_iter: int):\n",
    "\n",
    "    for count in range(max_iter): \n",
    "        fa = f(a)\n",
    "        fb = f(b)\n",
    "        diff = (b - a) / 2\n",
    "\n",
    "        c = a + diff\n",
    "        fc = f(c)\n",
    "        \n",
    "        fabdiff = fa - fb\n",
    "        fcadiff = fc - fa\n",
    "        fbcdiff = fb - fc \n",
    "\n",
    "        x = (a * fb * fc * fbcdiff + b * fa * fc * fcadiff + c * fa * fb * fabdiff) / (fabdiff * fcadiff * fbcdiff)\n",
    "\n",
    "        if np.abs(f(x)) < eps:\n",
    "            return x, count \n",
    "\n",
    "        if (np.sign(fc) != np.sign(fa) and a <= x <= c):\n",
    "            b = x\n",
    "        elif (np.sign(fc) != np.sign(fb) and c <= x <= b):\n",
    "            a = x\n",
    "        else:\n",
    "            if np.sign(fa) == np.sign(fc):\n",
    "                a = c\n",
    "            else:\n",
    "                b = c\n",
    "        \n",
    "    return x, max_iter"
   ]
  },
  {
   "cell_type": "markdown",
   "id": "93e77d37",
   "metadata": {},
   "source": [
    "**Metoda siecznych**"
   ]
  },
  {
   "cell_type": "code",
   "execution_count": 5,
   "id": "925807b0",
   "metadata": {},
   "outputs": [],
   "source": [
    "# Metoda siecznych \n",
    "def secant(f: FunctionType, a: float, b: float, eps: float, max_iter: int):\n",
    "    for count in range(max_iter):\n",
    "        c = b - f(b) * (b - a) / (f(b) - f(a))\n",
    "        if np.abs(f(c)) < eps:\n",
    "            return c, count\n",
    "        if np.sign(f(c)) == np.sign(f(b)):\n",
    "            b = c\n",
    "        else: \n",
    "            a = c\n",
    "    return c, max_iter"
   ]
  },
  {
   "cell_type": "markdown",
   "id": "c3fd99a0",
   "metadata": {},
   "source": [
    "**Metoda Newtona**"
   ]
  },
  {
   "cell_type": "code",
   "execution_count": 6,
   "id": "4560df53",
   "metadata": {},
   "outputs": [],
   "source": [
    "# Metoda Newtona\n",
    "def newton(f: FunctionType, fprime: FunctionType, x0: float, eps: float, max_iter: int):\n",
    "    for count in range(max_iter):\n",
    "        x1 = x0 - f(x0) / fprime(x0)\n",
    "        if np.abs(x1 - x0) < eps:\n",
    "            return x1, count\n",
    "        x0 = x1\n",
    "    return x1, max_iter"
   ]
  },
  {
   "cell_type": "markdown",
   "id": "6b5dc8c2",
   "metadata": {},
   "source": [
    "### Wyniki"
   ]
  },
  {
   "cell_type": "code",
   "execution_count": 9,
   "id": "588288dc",
   "metadata": {},
   "outputs": [],
   "source": [
    "def f(x):\n",
    "    return np.tan(np.pi - x) - x\n",
    "\n",
    "def fprime(x):\n",
    "    return -1 / np.cos(np.pi - x) ** 2 - 1"
   ]
  },
  {
   "cell_type": "code",
   "execution_count": 10,
   "id": "a237c603",
   "metadata": {},
   "outputs": [
    {
     "name": "stdout",
     "output_type": "stream",
     "text": [
      "Rozwiązanie metodą bisekcji: -1.2979035835498855e-16\n",
      "Ilość iteracji: 53\n",
      "=============================================\n",
      "Rozwiązanie metodą brent'a: -4.916566766217853e-17\n",
      "Ilość iteracji: 6\n",
      "=============================================\n",
      "Rozwiązanie metodą siecznych: -2.220446049250313e-16\n",
      "Ilość iteracji: 26\n",
      "=============================================\n",
      "Rozwiązanie metodą newtona: -1.0895518733880561e-16\n",
      "Ilość iteracji: 5\n",
      "=============================================\n"
     ]
    }
   ],
   "source": [
    "    bi_sol, bi_count = bisection(f, -1, 1.1, 1e-16, 1000)\n",
    "    print(f\"Rozwiązanie metodą bisekcji: {bi_sol}\")\n",
    "    print(f\"Ilość iteracji: {bi_count}\")\n",
    "    print(\"=============================================\")\n",
    "\n",
    "    br_sol, br_count = brent(f, -1, 1.1, 1e-16, 1000)\n",
    "    print(f\"Rozwiązanie metodą brent'a: {br_sol}\")\n",
    "    print(f\"Ilość iteracji: {br_count}\")\n",
    "    print(\"=============================================\")\n",
    "\n",
    "    se_sol, se_count = secant(f, -1, 1.1, 1e-16, 1000)\n",
    "    print(f\"Rozwiązanie metodą siecznych: {se_sol}\")\n",
    "    print(f\"Ilość iteracji: {se_count}\")\n",
    "    print(\"=============================================\")\n",
    "\n",
    "    ne_sol, ne_count = newton(f, fprime, 1.1, 1e-16, 1000)\n",
    "    print(f\"Rozwiązanie metodą newtona: {ne_sol}\")\n",
    "    print(f\"Ilość iteracji: {ne_count}\")\n",
    "    print(\"=============================================\")"
   ]
  },
  {
   "cell_type": "markdown",
   "id": "a9c416dc",
   "metadata": {},
   "source": [
    "## Zadanie 2"
   ]
  },
  {
   "cell_type": "code",
   "execution_count": 11,
   "id": "221669ac",
   "metadata": {},
   "outputs": [],
   "source": [
    "def g(x):\n",
    "    return np.cosh(x) * np.cos(x) - 1\n",
    "\n",
    "def gprime(x):\n",
    "    return np.sinh(x) * np.cos(x) - np.cosh(x) - np.sin(x)"
   ]
  },
  {
   "cell_type": "code",
   "execution_count": 12,
   "id": "26d95309",
   "metadata": {},
   "outputs": [
    {
     "data": {
      "image/png": "[encoded data removed]",
      "text/plain": [
       "<Figure size 640x480 with 1 Axes>"
      ]
     },
     "metadata": {},
     "output_type": "display_data"
    }
   ],
   "source": [
    "x = np.linspace(0, 8, 100)\n",
    "plt.plot(x, g(x))\n",
    "plt.plot(x, gprime(x))\n",
    "plt.grid()\n",
    "plt.show()"
   ]
  }
 ],
 "metadata": {
  "kernelspec": {
   "display_name": "Python 3 (ipykernel)",
   "language": "python",
   "name": "python3"
  },
  "language_info": {
   "codemirror_mode": {
    "name": "ipython",
    "version": 3
   },
   "file_extension": ".py",
   "mimetype": "text/x-python",
   "name": "python",
   "nbconvert_exporter": "python",
   "pygments_lexer": "ipython3",
   "version": "3.11.0"
  }
 },
 "nbformat": 4,
 "nbformat_minor": 5
}
